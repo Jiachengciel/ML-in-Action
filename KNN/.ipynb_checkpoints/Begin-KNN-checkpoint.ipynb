{
 "cells": [
  {
   "cell_type": "markdown",
   "metadata": {},
   "source": [
    "# KNN Begin\n",
    "\n",
    "---\n",
    "\n",
    "Created on 2019-06-04\n",
    "\n",
    "Update on 2019-06-04\n",
    "\n",
    "Coder: 6+x\n",
    "\n",
    "Github: https://github.com/Jiachengciel/ML-in-Action\n",
    "\n",
    "---"
   ]
  },
  {
   "cell_type": "markdown",
   "metadata": {},
   "source": [
    "KNN: K-Nearest Neighobrs 即 k-近邻算法\n",
    "\n",
    "* 优点： 精度高，对异常值不敏感，无数据输入假定\n",
    "* 缺点： 计算复杂度高、空间复杂度高\n",
    "* 适用数据范围： 数值型和标称型\n",
    "\n",
    "`标称型：一般在有限的数据中取，而且只存在‘是’和‘否’两种不同的结果（一般用于分类）`\n",
    "\n",
    "`数值型：可以在无限的数据中取，而且数值比较具体化，例如4.02,6.23这种值（一般用于回归分析）`"
   ]
  },
  {
   "cell_type": "code",
   "execution_count": 1,
   "metadata": {},
   "outputs": [],
   "source": [
    "import operator\n",
    "import collections\n",
    "import numpy as np\n",
    "import matplotlib.pyplot as plt\n",
    "\n",
    "%matplotlib notebook"
   ]
  },
  {
   "cell_type": "code",
   "execution_count": 2,
   "metadata": {},
   "outputs": [],
   "source": [
    "# 创建数据集\n",
    "def createDataset():\n",
    "    '''\n",
    "    数据集创建函数\n",
    "    \n",
    "    Args:\n",
    "        无\n",
    "    Returns:\n",
    "        group: 数据集\n",
    "        labels: 标签\n",
    "    '''\n",
    "    group = np.array([[1.0,1.1],[1.0,1.0],[0,0],[0,0.1]])\n",
    "    labels = ['A','A','B','B']\n",
    "    return group, labels"
   ]
  },
  {
   "cell_type": "code",
   "execution_count": 3,
   "metadata": {},
   "outputs": [],
   "source": [
    "group, label = createDataset()"
   ]
  },
  {
   "cell_type": "code",
   "execution_count": 4,
   "metadata": {},
   "outputs": [
    {
     "data": {
      "image/png": "[encoded data removed]",
      "text/plain": [
       "<Figure size 432x288 with 1 Axes>"
      ]
     },
     "metadata": {
      "needs_background": "light"
     },
     "output_type": "display_data"
    }
   ],
   "source": [
    "# 可视化\n",
    "fig = plt.figure()\n",
    "ax = fig.add_subplot(111)\n",
    "ax.set_title(\"Data KNN\")\n",
    "plt.scatter(group[:,0], group[:,1])\n",
    "for i in range(group.shape[0]):\n",
    "    plt.annotate(label[i], group[i])\n",
    "plt.show()"
   ]
  },
  {
   "cell_type": "markdown",
   "metadata": {},
   "source": [
    "### KNN算法："
   ]
  },
  {
   "cell_type": "code",
   "execution_count": 5,
   "metadata": {},
   "outputs": [],
   "source": [
    "def classify0(inX, dataset, labels, k):\n",
    "    '''\n",
    "    KNN 算法：\n",
    "    给定一个训练数据集，对新的输入实例，在训练数据集中找到与该实例最邻近的K个实例，\n",
    "    这K个实例的多数属于某个类，就把该输入实例分类到这个类中\n",
    "    \n",
    "    Args:\n",
    "        inX: 输入向量\n",
    "        dataset: 训练数据集\n",
    "        labels: 标签向量\n",
    "        k: 选择最近邻居个数\n",
    "    '''\n",
    "    \n",
    "    # 欧几里得距离\n",
    "    dist = np.sqrt(np.sum(np.power(inX - dataset, 2), axis=1))\n",
    "    # 将各距离从小到大排列\n",
    "    sortedDistIndices = dist.argsort()\n",
    "    # 选取最近的k个实例\n",
    "    k_labels = [labels[indice] for indice in sortedDistIndices[0:k]]\n",
    "    # 将输入向量归属于出现次数最多的类\n",
    "    label = collections.Counter(k_labels).most_common(1)[0][0]\n",
    "    \n",
    "    return label"
   ]
  },
  {
   "cell_type": "markdown",
   "metadata": {},
   "source": [
    "### 测试分类器"
   ]
  },
  {
   "cell_type": "code",
   "execution_count": 6,
   "metadata": {},
   "outputs": [
    {
     "name": "stdout",
     "output_type": "stream",
     "text": [
      "Label Test: A\n"
     ]
    }
   ],
   "source": [
    "label_test = classify0([0.8,0.8], group, label, 3)\n",
    "print('Label Test:', label_test)"
   ]
  },
  {
   "cell_type": "markdown",
   "metadata": {},
   "source": [
    "### 可视化验证"
   ]
  },
  {
   "cell_type": "code",
   "execution_count": 7,
   "metadata": {},
   "outputs": [
    {
     "data": {
      "image/png": "[encoded data removed]",
      "text/plain": [
       "<Figure size 432x288 with 1 Axes>"
      ]
     },
     "metadata": {
      "needs_background": "light"
     },
     "output_type": "display_data"
    }
   ],
   "source": [
    "fig = plt.figure()\n",
    "ax = fig.add_subplot(111)\n",
    "ax.set_title(\"KNN\")\n",
    "# 画点\n",
    "plt.scatter(group[:,0], group[:,1])\n",
    "plt.scatter(0.8,0.8, c='r')\n",
    "# 标注\n",
    "for i in range(group.shape[0]):\n",
    "    plt.annotate(label[i], group[i])\n",
    "plt.annotate(label_test, [0.8, 0.8])\n",
    "    \n",
    "plt.show()"
   ]
  },
  {
   "cell_type": "code",
   "execution_count": null,
   "metadata": {},
   "outputs": [],
   "source": []
  }
 ],
 "metadata": {
  "kernelspec": {
   "display_name": "Python 3",
   "language": "python",
   "name": "python3"
  },
  "language_info": {
   "codemirror_mode": {
    "name": "ipython",
    "version": 3
   },
   "file_extension": ".py",
   "mimetype": "text/x-python",
   "name": "python",
   "nbconvert_exporter": "python",
   "pygments_lexer": "ipython3",
   "version": "3.6.8"
  }
 },
 "nbformat": 4,
 "nbformat_minor": 2
}
