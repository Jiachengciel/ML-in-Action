{
 "cells": [
  {
   "cell_type": "markdown",
   "metadata": {},
   "source": [
    "# 示例：手写识别系统\n",
    "\n",
    "---\n",
    "\n",
    "Created on 2019-06-05\n",
    "\n",
    "Update on 2019-06-05\n",
    "\n",
    "Coder: 6+x\n",
    "\n",
    "Github: https://github.com/Jiachengciel/ML-in-Action\n",
    "\n",
    "---"
   ]
  },
  {
   "cell_type": "markdown",
   "metadata": {},
   "source": [
    "图像为32x32像素的黑白图像\n",
    "\n",
    "'trainingDigits' 中包含约2000个实例\n",
    "\n",
    "‘testDigits’ 中包含约900个实例\n",
    "\n",
    "需要将32x32的信息转换为1x1024"
   ]
  },
  {
   "cell_type": "code",
   "execution_count": 1,
   "metadata": {},
   "outputs": [],
   "source": [
    "import os\n",
    "import numpy as np\n",
    "import collections\n",
    "import matplotlib\n",
    "import matplotlib.pyplot as plt\n",
    "import matplotlib.pylab as pylab\n",
    "\n",
    "%matplotlib notebook\n",
    "pylab.rcParams['figure.figsize'] = (5, 5)\n",
    "matplotlib.rcParams['font.sans-serif']=['SimHei']\n",
    "matplotlib.rcParams['font.family']='sans-serif'\n",
    "matplotlib.rcParams['axes.unicode_minus']=False\n",
    "\n",
    "#coding:utf-8"
   ]
  },
  {
   "cell_type": "markdown",
   "metadata": {},
   "source": [
    "### KNN"
   ]
  },
  {
   "cell_type": "code",
   "execution_count": 2,
   "metadata": {},
   "outputs": [],
   "source": [
    "def classify0(inX, dataset, labels, k):\n",
    "    '''\n",
    "    KNN 算法：\n",
    "    给定一个训练数据集，对新的输入实例，在训练数据集中找到与该实例最邻近的K个实例，\n",
    "    这K个实例的多数属于某个类，就把该输入实例分类到这个类中\n",
    "    \n",
    "    Args:\n",
    "        inX: 输入向量\n",
    "        dataset: 训练数据集\n",
    "        labels: 标签向量\n",
    "        k: 选择最近邻居个数\n",
    "    '''\n",
    "    \n",
    "    # 欧几里得距离\n",
    "    dist = np.sqrt(np.sum(np.power(inX - dataset, 2), axis=1))\n",
    "    # 将各距离从小到大排列\n",
    "    sortedDistIndices = dist.argsort()\n",
    "    # 选取最近的k个实例\n",
    "    k_labels = [labels[indice] for indice in sortedDistIndices[0:k]]\n",
    "    # 将输入向量归属于出现次数最多的类\n",
    "    label = collections.Counter(k_labels).most_common(1)[0][0]\n",
    "    \n",
    "    return label"
   ]
  },
  {
   "cell_type": "markdown",
   "metadata": {},
   "source": [
    "### 图像信息转为数组"
   ]
  },
  {
   "cell_type": "code",
   "execution_count": 3,
   "metadata": {},
   "outputs": [],
   "source": [
    "def img2vector(filename):\n",
    "    '''\n",
    "    将图像信息转换为数组形式\n",
    "    \n",
    "    Args:\n",
    "        filename: 图像文件名\n",
    "    Returns:\n",
    "        returnVect: 存储了图像信息的数组\n",
    "    '''\n",
    "    \n",
    "    returnVect = np.zeros((1,1024))\n",
    "    # 打开文件\n",
    "    fr = open(filename)\n",
    "    # 读取信息\n",
    "    for i in range(32):\n",
    "        # 读取一行的信息\n",
    "        lineStr = fr.readline()\n",
    "        for j in range(32):\n",
    "            returnVect[0, 32*i+j] = int(lineStr[j])\n",
    "            \n",
    "    fr.close()\n",
    "    return returnVect"
   ]
  },
  {
   "cell_type": "code",
   "execution_count": 4,
   "metadata": {},
   "outputs": [],
   "source": [
    "# 检验\n",
    "testVector = img2vector('testDigits/0_13.txt')"
   ]
  },
  {
   "cell_type": "code",
   "execution_count": 5,
   "metadata": {},
   "outputs": [
    {
     "data": {
      "text/plain": [
       "array([0., 0., 0., 0., 0., 0., 0., 0., 0., 0., 0., 0., 0., 0., 1., 1.])"
      ]
     },
     "execution_count": 5,
     "metadata": {},
     "output_type": "execute_result"
    }
   ],
   "source": [
    "testVector[0, 0:16]"
   ]
  },
  {
   "cell_type": "markdown",
   "metadata": {},
   "source": [
    "### 算法测试"
   ]
  },
  {
   "cell_type": "code",
   "execution_count": 6,
   "metadata": {},
   "outputs": [],
   "source": [
    "def handwritingClassTest():\n",
    "    '''\n",
    "    trainingDigits是KNN算法的基础数据集\n",
    "    testDigits用作检验KNN算法的数据集\n",
    "    k = 4\n",
    "    '''\n",
    "    # 初始化标签list\n",
    "    Labels = []\n",
    "    \n",
    "    file_train = 'trainingDigits'\n",
    "    trainingFileList = os.listdir(file_train)\n",
    "    # 文件夹下文件数量\n",
    "    m = len(trainingFileList)\n",
    "    # 初始化特征矩阵\n",
    "    traingMat = np.zeros((m, 1024))\n",
    "    # 将每个文件的信息读入矩阵\n",
    "    for i in range(m):\n",
    "        fileName = trainingFileList[i]\n",
    "        # 获得该文件的标签\n",
    "        classNumber = int(fileName.split('.')[0].split('_')[0])\n",
    "        Labels.append(classNumber)\n",
    "        # 读取信息\n",
    "        traingMat[i, :] = img2vector(file_train + '/' + fileName)\n",
    "    \n",
    "    \n",
    "    # 检验\n",
    "    file_test = 'testDigits'\n",
    "    testFileList = os.listdir(file_test)\n",
    "    # 文件数量\n",
    "    n = len(testFileList)\n",
    "    \n",
    "    errorNum = 0.0\n",
    "    for i in range(n):\n",
    "        fileName = testFileList[i]\n",
    "        # 文件原标签\n",
    "        classNumber = int(fileName.split('.')[0].split('_')[0])\n",
    "        # 信息特征\n",
    "        TestVector = img2vector(file_test + '/' + fileName)\n",
    "        # KNN分类\n",
    "        classfierResult = classify0(TestVector, traingMat, Labels, 4)\n",
    "        # 打印结果\n",
    "        if (i % 100 == 0):\n",
    "            print(\"Class predict is: %d, Real answer is: %d\" % (classfierResult, classNumber))\n",
    "        # 记录错误率\n",
    "        if (classfierResult != classNumber):\n",
    "            errorNum += 1.0\n",
    "        \n",
    "    print(\"\\nThe total number of errors is: \", errorNum)\n",
    "    print(\"\\nThe accuracy is: %.2f %%\" % ((1.00 - float(errorNum/n)) * 100.00))\n",
    "    "
   ]
  },
  {
   "cell_type": "code",
   "execution_count": 7,
   "metadata": {},
   "outputs": [
    {
     "name": "stdout",
     "output_type": "stream",
     "text": [
      "Class predict is: 4, Real answer is: 4\n",
      "Class predict is: 0, Real answer is: 0\n",
      "Class predict is: 9, Real answer is: 9\n",
      "Class predict is: 8, Real answer is: 8\n",
      "Class predict is: 8, Real answer is: 8\n",
      "Class predict is: 7, Real answer is: 7\n",
      "Class predict is: 2, Real answer is: 2\n",
      "Class predict is: 5, Real answer is: 5\n",
      "Class predict is: 3, Real answer is: 3\n",
      "Class predict is: 9, Real answer is: 9\n",
      "\n",
      "The total number of errors is:  11.0\n",
      "\n",
      "The accuracy is: 98.84 %\n"
     ]
    }
   ],
   "source": [
    "handwritingClassTest()"
   ]
  },
  {
   "cell_type": "code",
   "execution_count": null,
   "metadata": {},
   "outputs": [],
   "source": []
  }
 ],
 "metadata": {
  "kernelspec": {
   "display_name": "Python 3",
   "language": "python",
   "name": "python3"
  },
  "language_info": {
   "codemirror_mode": {
    "name": "ipython",
    "version": 3
   },
   "file_extension": ".py",
   "mimetype": "text/x-python",
   "name": "python",
   "nbconvert_exporter": "python",
   "pygments_lexer": "ipython3",
   "version": "3.6.8"
  }
 },
 "nbformat": 4,
 "nbformat_minor": 2
}
